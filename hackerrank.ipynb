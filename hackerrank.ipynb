{
 "cells": [
  {
   "cell_type": "markdown",
   "metadata": {},
   "source": [
    "## Find the Runner-Up Score!\n"
   ]
  },
  {
   "cell_type": "code",
   "execution_count": 16,
   "metadata": {},
   "outputs": [
    {
     "name": "stdout",
     "output_type": "stream",
     "text": [
      "5\n",
      "2 3 6 6 5\n",
      "5\n"
     ]
    }
   ],
   "source": [
    "if __name__ == '__main__':\n",
    "    n = int(input())\n",
    "    if n<2 :\n",
    "        n=2\n",
    "    if n>10:\n",
    "        n=10\n",
    "    arr = list(map(int, input().split()))\n",
    "    arr = arr[:n]\n",
    "    for i in range(len(arr)):\n",
    "        if arr[i] < -100:\n",
    "            arr[i] = -100\n",
    "        if arr[i] > 100:\n",
    "            arr[i] = 100\n",
    "#     print(arr)\n",
    "#     print(max(arr))\n",
    "    max_num = max(arr)\n",
    "    while max_num in arr:\n",
    "        arr.remove(max(arr))\n",
    "#     print(arr)\n",
    "    print(sorted(arr, reverse=True)[0])"
   ]
  },
  {
   "cell_type": "markdown",
   "metadata": {},
   "source": [
    "## Finding the percentage"
   ]
  },
  {
   "cell_type": "code",
   "execution_count": 13,
   "metadata": {},
   "outputs": [
    {
     "name": "stdout",
     "output_type": "stream",
     "text": [
      "2\n",
      "a 1 2 3\n",
      "b 2 3 4\n",
      "a\n",
      "2.00\n"
     ]
    }
   ],
   "source": [
    "if __name__ == '__main__':\n",
    "    n = int(input())\n",
    "    student_marks = {}\n",
    "    for _ in range(n):\n",
    "        name, *line = input().split()\n",
    "        scores = list(map(float, line))\n",
    "        student_marks[name] = scores\n",
    "    query_name = input()\n",
    "    print('{:0.2f}'.format(sum(student_marks[query_name])/len(student_marks[query_name])))"
   ]
  },
  {
   "cell_type": "markdown",
   "metadata": {},
   "source": [
    "## Detect Floating Point Number"
   ]
  },
  {
   "cell_type": "code",
   "execution_count": 19,
   "metadata": {},
   "outputs": [
    {
     "name": "stdout",
     "output_type": "stream",
     "text": [
      "4\n",
      "1.2\n",
      "True\n",
      "1.\n",
      "False\n",
      "5..ii\n",
      "False\n",
      "r\n",
      "False\n"
     ]
    }
   ],
   "source": [
    "if __name__ == '__main__':\n",
    "    import re\n",
    "    t = int((input()))\n",
    "    for i in range(t):\n",
    "        n = input()\n",
    "        print(bool(re.match(r'^[-+]?[0-9]*\\.[0-9]+$', n)))"
   ]
  },
  {
   "cell_type": "markdown",
   "metadata": {},
   "source": [
    "## Re.split()"
   ]
  },
  {
   "cell_type": "code",
   "execution_count": 23,
   "metadata": {},
   "outputs": [
    {
     "name": "stdout",
     "output_type": "stream",
     "text": [
      "100,000,000\n",
      "100\n",
      "000\n",
      "000\n"
     ]
    }
   ],
   "source": [
    "regex_pattern = r\"[.,]+\"\t# Do not delete 'r'.\n",
    "\n",
    "import re\n",
    "print(\"\\n\".join(re.split(regex_pattern, input())))"
   ]
  },
  {
   "cell_type": "markdown",
   "metadata": {},
   "source": [
    "## Lists"
   ]
  },
  {
   "cell_type": "code",
   "execution_count": 34,
   "metadata": {},
   "outputs": [
    {
     "name": "stdout",
     "output_type": "stream",
     "text": [
      "12\n",
      "insert 0 5\n",
      "insert 1 10\n",
      "insert 0 6\n",
      "print\n",
      "[6, 5, 10]\n",
      "remove 6\n",
      "append 9\n",
      "append 1\n",
      "sort\n",
      "print\n",
      "[1, 5, 9, 10]\n",
      "pop\n",
      "reverse\n",
      "print\n",
      "[9, 5, 1]\n"
     ]
    }
   ],
   "source": [
    "if __name__ == '__main__':\n",
    "    N = int(input())\n",
    "    number_list = []\n",
    "    for _ in range(N):\n",
    "        command, *line = input().split()\n",
    "        index_number = list(map(int, line))\n",
    "        if command == 'print':\n",
    "            print(number_list)\n",
    "        elif command == 'insert':\n",
    "            number_list.insert(index_number[0], index_number[1])\n",
    "        elif command == 'remove':\n",
    "            number_list.remove(index_number[0])\n",
    "        elif command == 'append':\n",
    "            number_list.append(index_number[0])\n",
    "        elif command == 'sort':\n",
    "            number_list.sort()\n",
    "        elif command == 'pop':\n",
    "            number_list.pop()\n",
    "        elif command == 'reverse':\n",
    "            number_list.reverse()"
   ]
  },
  {
   "cell_type": "markdown",
   "metadata": {},
   "source": [
    "## Tuples"
   ]
  },
  {
   "cell_type": "code",
   "execution_count": 39,
   "metadata": {},
   "outputs": [
    {
     "name": "stdout",
     "output_type": "stream",
     "text": [
      "2\n",
      "1 2\n",
      "-3550055125485641917\n"
     ]
    }
   ],
   "source": [
    "if __name__ == '__main__':\n",
    "    n = int(input())\n",
    "    integer_list = map(int, input().split())\n",
    "    t = tuple(integer_list)\n",
    "    print(hash(t))"
   ]
  },
  {
   "cell_type": "markdown",
   "metadata": {},
   "source": [
    "## Nested Lists"
   ]
  },
  {
   "cell_type": "code",
   "execution_count": 27,
   "metadata": {},
   "outputs": [
    {
     "name": "stdout",
     "output_type": "stream",
     "text": [
      "5\n",
      "H\n",
      "37.21\n",
      "B\n",
      "37.21\n",
      "T\n",
      "37.2\n",
      "A\n",
      "41\n",
      "Har\n",
      "39\n",
      "[['T', 37.2], ['H', 37.21], ['B', 37.21], ['Har', 39.0], ['A', 41.0]]\n",
      "B\n",
      "H\n"
     ]
    }
   ],
   "source": [
    "if __name__ == '__main__':\n",
    "    student_all = []\n",
    "    n = int(input())\n",
    "    for _ in range(n):\n",
    "        name = input()\n",
    "        score = float(input())\n",
    "        student_all.append([name, score])\n",
    "        order = sorted(student_all, key = lambda x: float(x[1]))\n",
    "#     print(order)\n",
    "    for i in range(n):\n",
    "        if order[i][1] != order[0][1]:\n",
    "            second_low = order[i][1]\n",
    "            break\n",
    "    name_result = []\n",
    "    for i in range(n):\n",
    "        if order[i][1] == second_low:\n",
    "            name_result.append(order[i][0])\n",
    "    for name_ in sorted(name_result):\n",
    "        print(name_)"
   ]
  },
  {
   "cell_type": "markdown",
   "metadata": {},
   "source": [
    "## Set .symmetric_difference() Operation"
   ]
  },
  {
   "cell_type": "code",
   "execution_count": 28,
   "metadata": {},
   "outputs": [
    {
     "name": "stdout",
     "output_type": "stream",
     "text": [
      "9\n",
      "1 2 3 4 5 6 7 8 9\n",
      "9\n",
      "10 1 2 3 11 21 55 6 8\n",
      "8\n"
     ]
    }
   ],
   "source": [
    "if __name__ == '__main__':\n",
    "    student_all = []\n",
    "    no_eng = int(input())\n",
    "    eng = set(list(map(int, input().split()))[:no_eng])\n",
    "    no_fr = int(input())\n",
    "    fr = set(list(map(int, input().split()))[:no_fr])\n",
    "    print(len(eng.symmetric_difference(fr)))"
   ]
  },
  {
   "cell_type": "code",
   "execution_count": null,
   "metadata": {},
   "outputs": [],
   "source": []
  }
 ],
 "metadata": {
  "kernelspec": {
   "display_name": "Python 3",
   "language": "python",
   "name": "python3"
  },
  "language_info": {
   "codemirror_mode": {
    "name": "ipython",
    "version": 3
   },
   "file_extension": ".py",
   "mimetype": "text/x-python",
   "name": "python",
   "nbconvert_exporter": "python",
   "pygments_lexer": "ipython3",
   "version": "3.8.1"
  }
 },
 "nbformat": 4,
 "nbformat_minor": 4
}
